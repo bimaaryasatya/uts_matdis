{
 "cells": [
  {
   "cell_type": "markdown",
   "metadata": {},
   "source": [
    "**Soal 1**"
   ]
  },
  {
   "cell_type": "code",
   "execution_count": 10,
   "metadata": {},
   "outputs": [
    {
     "name": "stdout",
     "output_type": "stream",
     "text": [
      "{'mahasiswa': ['Bima', 'Ikhsan', 'Dinda', 'Gerald', 'Dinda', 'Saif', 'Yanuar', 'Dede', 'Fadil', 'Putra', 'Yusuf', 'Abdel', 'Dion', 'Adam', 'Salsa', 'Fadilah', 'Shasa', 'Zahra', 'Raihan', 'Banu', 'Yahya', 'Hilmi', 'Rendi', 'Toriq', 'Satrio']}\n"
     ]
    }
   ],
   "source": [
    "#Dataset\n",
    "dataset = {\n",
    "    'mahasiswa': [\n",
    "    'Bima',\n",
    "    'Ikhsan',\n",
    "    'Dinda',\n",
    "    'Gerald',\n",
    "    'Dinda',\n",
    "    'Saif',\n",
    "    'Yanuar',\n",
    "    'Dede',\n",
    "    'Fadil',\n",
    "    'Putra',\n",
    "    'Yusuf',\n",
    "    'Abdel',\n",
    "    'Dion',\n",
    "    'Adam',\n",
    "    'Salsa',\n",
    "    'Fadilah',\n",
    "    'Shasa',\n",
    "    'Zahra',\n",
    "    'Raihan',\n",
    "    'Banu'\n",
    "]}\n",
    "\n",
    "dataset['mahasiswa'].append('Yahya')\n",
    "dataset['mahasiswa'].append('Hilmi')\n",
    "dataset['mahasiswa'].append('Rendi')\n",
    "dataset['mahasiswa'].append('Toriq')\n",
    "dataset['mahasiswa'].append('Satrio')\n",
    "\n",
    "print(dataset)\n",
    "\n"
   ]
  },
  {
   "cell_type": "code",
   "execution_count": 15,
   "metadata": {},
   "outputs": [
    {
     "name": "stdout",
     "output_type": "stream",
     "text": [
      "['Bima', 'Ikhsan', 'Dinda', 'Gerald', 'Dinda', 'Saif', 'Yanuar', 'Dede', 'Fadil', 'Putra', 'Yusuf', 'Abdel', 'Dion', 'Adam', 'Salsa', 'Fadilah', 'Shasa', 'Zahra', 'Raihan', 'Banu', 'Yahya', 'Hilmi', 'Rendi', 'Toriq', 'Satrio']\n"
     ]
    }
   ],
   "source": [
    "#List\n",
    "list = [\n",
    "    'Bima',\n",
    "    'Ikhsan',\n",
    "    'Dinda',\n",
    "    'Gerald',\n",
    "    'Dinda',\n",
    "    'Saif',\n",
    "    'Yanuar',\n",
    "    'Dede',\n",
    "    'Fadil',\n",
    "    'Putra',\n",
    "    'Yusuf',\n",
    "    'Abdel',\n",
    "    'Dion',\n",
    "    'Adam',\n",
    "    'Salsa',\n",
    "    'Fadilah',\n",
    "    'Shasa',\n",
    "    'Zahra',\n",
    "    'Raihan',\n",
    "    'Banu',\n",
    "]\n",
    "\n",
    "list.insert(21, 'Yahya')\n",
    "list.insert(22, 'Hilmi')\n",
    "list.insert(23, 'Rendi')\n",
    "list.insert(24, 'Toriq')\n",
    "list.insert(25, 'Satrio')\n",
    "\n",
    "print(list)"
   ]
  },
  {
   "cell_type": "code",
   "execution_count": 44,
   "metadata": {},
   "outputs": [
    {
     "name": "stdout",
     "output_type": "stream",
     "text": [
      "('Bima', 'Ikhsan', 'Dinda', 'Gerald', 'Dinda', 'Saif', 'Yanuar', 'Dede', 'Fadil', 'Putra', 'Yusuf', 'Abdel', 'Dion', 'Adam', 'Salsa', 'Fadilah', 'Shasa', 'Zahra', 'Raihan', 'Banu', 'Yahya', 'Hilmi', 'Rendi', 'Toriq', 'Satrio')\n"
     ]
    }
   ],
   "source": [
    "#Tuple\n",
    "\n",
    "tuple_orang = (\n",
    "    'Bima',\n",
    "    'Ikhsan',\n",
    "    'Dinda',\n",
    "    'Gerald',\n",
    "    'Dinda',\n",
    "    'Saif',\n",
    "    'Yanuar',\n",
    "    'Dede',\n",
    "    'Fadil',\n",
    "    'Putra',\n",
    "    'Yusuf',\n",
    "    'Abdel',\n",
    "    'Dion',\n",
    "    'Adam',\n",
    "    'Salsa',\n",
    "    'Fadilah',\n",
    "    'Shasa',\n",
    "    'Zahra',\n",
    "    'Raihan',\n",
    "    'Banu',\n",
    ")\n",
    "\n",
    "tuple_orang = tuple_orang + ('Yahya','Hilmi','Rendi','Toriq','Satrio')\n",
    "print(tuple_orang)"
   ]
  },
  {
   "cell_type": "markdown",
   "metadata": {},
   "source": [
    "**Soal 2**"
   ]
  },
  {
   "cell_type": "code",
   "execution_count": 42,
   "metadata": {},
   "outputs": [
    {
     "name": "stdout",
     "output_type": "stream",
     "text": [
      "Soal A: True \n",
      " Soal B: True\n"
     ]
    }
   ],
   "source": [
    "def piknik_or_buku(a, b):\n",
    "    return not(not a and not b)\n",
    "\n",
    "def dosen_informatika(a, b):\n",
    "    return not(not a or not b)\n",
    "\n",
    "piknik = True\n",
    "buku = False\n",
    "\n",
    "L = True\n",
    "P = True\n",
    "\n",
    "print(\"Soal A:\",piknik_or_buku(piknik,buku),\"\\n\",\"Soal B:\",dosen_informatika(L,P))\n",
    "\n"
   ]
  },
  {
   "cell_type": "markdown",
   "metadata": {},
   "source": [
    "**Soal 3**"
   ]
  },
  {
   "cell_type": "code",
   "execution_count": 43,
   "metadata": {},
   "outputs": [
    {
     "name": "stdout",
     "output_type": "stream",
     "text": [
      "Luas Lapangan: 4050\n"
     ]
    }
   ],
   "source": [
    "def luas_lap(a,b):\n",
    "    return a*b\n",
    "\n",
    "panjang = 90\n",
    "lebar = 45\n",
    "\n",
    "print(\"Luas Lapangan:\",luas_lap(panjang,lebar))"
   ]
  },
  {
   "cell_type": "markdown",
   "metadata": {},
   "source": [
    "**Soal 4**"
   ]
  },
  {
   "cell_type": "code",
   "execution_count": 46,
   "metadata": {},
   "outputs": [
    {
     "name": "stdout",
     "output_type": "stream",
     "text": [
      "Nomor Biner :  101100010111101111\n",
      "Nomor Heksa :  2c5ef\n",
      "Nomor Oktal :  542757\n"
     ]
    }
   ],
   "source": [
    "#NOMOR HANDPHONE\n",
    "\n",
    "no = 181743\n",
    "\n",
    "no_biner = bin(no)[2:]\n",
    "no_heksa = hex(no)[2:]\n",
    "no_oktal = oct(no)[2:]\n",
    "print(\"Nomor Biner : \", no_biner)\n",
    "print(\"Nomor Heksa : \", no_heksa)\n",
    "print(\"Nomor Oktal : \", no_oktal)"
   ]
  },
  {
   "cell_type": "code",
   "execution_count": 78,
   "metadata": {},
   "outputs": [
    {
     "name": "stdout",
     "output_type": "stream",
     "text": [
      "NIM Biner:\n",
      "1011000000101001101111011\n",
      "1011000000101001101010010\n",
      "1011000000101001111001001\n",
      "1011000000101001110011000\n",
      "1011000000101001110101100\n",
      "\n",
      "\n",
      "NIM Heksa:\n",
      "160537b\n",
      "1605352\n",
      "16053c9\n",
      "1605398\n",
      "16053ac\n",
      "\n",
      "\n",
      "NIM Heksa1:160537b\n",
      "NIM Heksa2:1605352\n",
      "NIM Heksa3:16053c9\n",
      "NIM Heksa4:1605398\n",
      "NIM Heksa5:16053ac\n",
      "\n",
      "\n"
     ]
    }
   ],
   "source": [
    "NIMS = (23090043,23090002,23090121,23090072,23090092)\n",
    "\n",
    "i=1\n",
    "for NIM in NIMS:\n",
    "    print(f\"NIM Biner {i}: {bin(NIM)[2:]}\")\n",
    "    i+=1\n",
    "    if i==6:\n",
    "        print(\"\\n\")\n",
    "\n",
    "i=1\n",
    "for NIM in NIMS:\n",
    "    print(f\"NIM Heksa {i}: {hex(NIM)[2:]}\")\n",
    "    i+=1\n",
    "    if i==6:\n",
    "        print(\"\\n\")\n",
    "\n",
    "i=1\n",
    "for NIM in NIMS:\n",
    "    print(f\"NIM Heksa {i}: {hex(NIM)[2:]}\")\n",
    "    i+=1\n",
    "    if i==6:\n",
    "        print(\"\\n\")        "
   ]
  }
 ],
 "metadata": {
  "kernelspec": {
   "display_name": "Python 3",
   "language": "python",
   "name": "python3"
  },
  "language_info": {
   "codemirror_mode": {
    "name": "ipython",
    "version": 3
   },
   "file_extension": ".py",
   "mimetype": "text/x-python",
   "name": "python",
   "nbconvert_exporter": "python",
   "pygments_lexer": "ipython3",
   "version": "3.12.1"
  }
 },
 "nbformat": 4,
 "nbformat_minor": 2
}
