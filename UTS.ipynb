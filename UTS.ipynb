{
 "cells": [
  {
   "cell_type": "markdown",
   "metadata": {},
   "source": [
    "**Soal 1**"
   ]
  },
  {
   "cell_type": "code",
   "execution_count": 3,
   "metadata": {},
   "outputs": [
    {
     "name": "stdout",
     "output_type": "stream",
     "text": [
      "Bima\n",
      "Ikhsan\n",
      "Dinda\n",
      "Gerald\n",
      "Dinda\n",
      "Saif\n",
      "Yanuar\n",
      "Dede\n",
      "Fadil\n",
      "Putra\n",
      "Yusuf\n",
      "Abdel\n",
      "Dion\n",
      "Adam\n",
      "Salsa\n",
      "Fadilah\n",
      "Shasa\n",
      "Zahra\n",
      "Raihan\n",
      "Banu\n",
      "Yahya\n",
      "Hilmi\n",
      "Rendi\n",
      "Toriq\n",
      "Satrio\n"
     ]
    }
   ],
   "source": [
    "#Dataset\n",
    "dataset = {\n",
    "    'mahasiswa': [\n",
    "    'Bima',\n",
    "    'Ikhsan',\n",
    "    'Dinda',\n",
    "    'Gerald',\n",
    "    'Dinda',\n",
    "    'Saif',\n",
    "    'Yanuar',\n",
    "    'Dede',\n",
    "    'Fadil',\n",
    "    'Putra',\n",
    "    'Yusuf',\n",
    "    'Abdel',\n",
    "    'Dion',\n",
    "    'Adam',\n",
    "    'Salsa',\n",
    "    'Fadilah',\n",
    "    'Shasa',\n",
    "    'Zahra',\n",
    "    'Raihan',\n",
    "    'Banu'\n",
    "]}\n",
    "\n",
    "dataset['mahasiswa'].append('Yahya')\n",
    "dataset['mahasiswa'].append('Hilmi')\n",
    "dataset['mahasiswa'].append('Rendi')\n",
    "dataset['mahasiswa'].append('Toriq')\n",
    "dataset['mahasiswa'].append('Satrio')\n",
    "\n",
    "for name in dataset['mahasiswa']:\n",
    "    print(name)\n",
    "\n"
   ]
  },
  {
   "cell_type": "code",
   "execution_count": 4,
   "metadata": {},
   "outputs": [
    {
     "name": "stdout",
     "output_type": "stream",
     "text": [
      "Bima\n",
      "Ikhsan\n",
      "Dinda\n",
      "Gerald\n",
      "Dinda\n",
      "Saif\n",
      "Yanuar\n",
      "Dede\n",
      "Fadil\n",
      "Putra\n",
      "Yusuf\n",
      "Abdel\n",
      "Dion\n",
      "Adam\n",
      "Salsa\n",
      "Fadilah\n",
      "Shasa\n",
      "Zahra\n",
      "Raihan\n",
      "Banu\n",
      "Yahya\n",
      "Hilmi\n",
      "Rendi\n",
      "Toriq\n",
      "Satrio\n"
     ]
    }
   ],
   "source": [
    "#List\n",
    "list = [\n",
    "    'Bima',\n",
    "    'Ikhsan',\n",
    "    'Dinda',\n",
    "    'Gerald',\n",
    "    'Dinda',\n",
    "    'Saif',\n",
    "    'Yanuar',\n",
    "    'Dede',\n",
    "    'Fadil',\n",
    "    'Putra',\n",
    "    'Yusuf',\n",
    "    'Abdel',\n",
    "    'Dion',\n",
    "    'Adam',\n",
    "    'Salsa',\n",
    "    'Fadilah',\n",
    "    'Shasa',\n",
    "    'Zahra',\n",
    "    'Raihan',\n",
    "    'Banu',\n",
    "]\n",
    "\n",
    "list.insert(21, 'Yahya')\n",
    "list.insert(22, 'Hilmi')\n",
    "list.insert(23, 'Rendi')\n",
    "list.insert(24, 'Toriq')\n",
    "list.insert(25, 'Satrio')\n",
    "\n",
    "for nama in list:\n",
    "    print(nama)"
   ]
  },
  {
   "cell_type": "code",
   "execution_count": 5,
   "metadata": {},
   "outputs": [
    {
     "name": "stdout",
     "output_type": "stream",
     "text": [
      "Bima\n",
      "Ikhsan\n",
      "Dinda\n",
      "Gerald\n",
      "Dinda\n",
      "Saif\n",
      "Yanuar\n",
      "Dede\n",
      "Fadil\n",
      "Putra\n",
      "Yusuf\n",
      "Abdel\n",
      "Dion\n",
      "Adam\n",
      "Salsa\n",
      "Fadilah\n",
      "Shasa\n",
      "Zahra\n",
      "Raihan\n",
      "Banu\n",
      "Yahya\n",
      "Hilmi\n",
      "Rendi\n",
      "Toriq\n",
      "Satrio\n"
     ]
    }
   ],
   "source": [
    "#Tuple\n",
    "\n",
    "tuple_orang = (\n",
    "    'Bima',\n",
    "    'Ikhsan',\n",
    "    'Dinda',\n",
    "    'Gerald',\n",
    "    'Dinda',\n",
    "    'Saif',\n",
    "    'Yanuar',\n",
    "    'Dede',\n",
    "    'Fadil',\n",
    "    'Putra',\n",
    "    'Yusuf',\n",
    "    'Abdel',\n",
    "    'Dion',\n",
    "    'Adam',\n",
    "    'Salsa',\n",
    "    'Fadilah',\n",
    "    'Shasa',\n",
    "    'Zahra',\n",
    "    'Raihan',\n",
    "    'Banu',\n",
    ")\n",
    "\n",
    "tuple_orang += ('Yahya','Hilmi','Rendi','Toriq','Satrio')\n",
    "for nama in tuple_orang:\n",
    "    print(nama)"
   ]
  },
  {
   "cell_type": "markdown",
   "metadata": {},
   "source": [
    "**Soal 2**"
   ]
  },
  {
   "cell_type": "code",
   "execution_count": 89,
   "metadata": {},
   "outputs": [
    {
     "name": "stdout",
     "output_type": "stream",
     "text": [
      "Soal A: True \n",
      "Soal B: True\n"
     ]
    }
   ],
   "source": [
    "def piknik_or_buku(a, b):\n",
    "    return not(not a and not b)\n",
    "\n",
    "def dosen_informatika(a, b):\n",
    "    return not(not a or not b)\n",
    "\n",
    "piknik = True\n",
    "buku = False\n",
    "\n",
    "L = True\n",
    "P = True\n",
    "\n",
    "print(\"Soal A:\",piknik_or_buku(piknik,buku),\"\\nSoal B:\",dosen_informatika(L,P))\n",
    "\n"
   ]
  },
  {
   "cell_type": "markdown",
   "metadata": {},
   "source": [
    "**Soal 3**"
   ]
  },
  {
   "cell_type": "code",
   "execution_count": 43,
   "metadata": {},
   "outputs": [
    {
     "name": "stdout",
     "output_type": "stream",
     "text": [
      "Luas Lapangan: 4050\n"
     ]
    }
   ],
   "source": [
    "def luas_lap(a,b):\n",
    "    return a*b\n",
    "\n",
    "panjang = 90\n",
    "lebar = 45\n",
    "\n",
    "print(\"Luas Lapangan:\",luas_lap(panjang,lebar))"
   ]
  },
  {
   "cell_type": "markdown",
   "metadata": {},
   "source": [
    "**Soal 4**"
   ]
  },
  {
   "cell_type": "code",
   "execution_count": 88,
   "metadata": {},
   "outputs": [
    {
     "name": "stdout",
     "output_type": "stream",
     "text": [
      "Nomor Biner: 101100010111101111\n",
      "Nomor Heksa: 2c5ef\n",
      "Nomor Oktal: 542757\n",
      "None\n"
     ]
    }
   ],
   "source": [
    "def convert(no):\n",
    "    bn_no = bin(no)\n",
    "    hx_no = hex(no)\n",
    "    oc_no = oct(no)\n",
    "    print(f\"Nomor Biner: {bn_no[2:]}\\nNomor Heksa: {hx_no[2:]}\\nNomor Oktal: {oc_no[2:]}\")\n",
    "\n",
    "print(convert(181743))"
   ]
  },
  {
   "cell_type": "code",
   "execution_count": 80,
   "metadata": {},
   "outputs": [
    {
     "name": "stdout",
     "output_type": "stream",
     "text": [
      "NIM Biner 1: 1011000000101001101111011\n",
      "NIM Biner 2: 1011000000101001101010010\n",
      "NIM Biner 3: 1011000000101001111001001\n",
      "NIM Biner 4: 1011000000101001110011000\n",
      "NIM Biner 5: 1011000000101001110101100\n",
      "\n",
      "\n",
      "NIM Heksa 1: 160537b\n",
      "NIM Heksa 2: 1605352\n",
      "NIM Heksa 3: 16053c9\n",
      "NIM Heksa 4: 1605398\n",
      "NIM Heksa 5: 16053ac\n",
      "\n",
      "\n",
      "NIM Oktal 1: 130051573\n",
      "NIM Oktal 2: 130051522\n",
      "NIM Oktal 3: 130051711\n",
      "NIM Oktal 4: 130051630\n",
      "NIM Oktal 5: 130051654\n",
      "\n",
      "\n"
     ]
    }
   ],
   "source": [
    "NIMS = (23090043,23090002,23090121,23090072,23090092)\n",
    "\n",
    "i=1\n",
    "for NIM in NIMS:\n",
    "    print(f\"NIM Biner {i}: {bin(NIM)[2:]}\")\n",
    "    i+=1\n",
    "    if i==6:\n",
    "        print(\"\\n\")\n",
    "\n",
    "i=1\n",
    "for NIM in NIMS:\n",
    "    print(f\"NIM Heksa {i}: {hex(NIM)[2:]}\")\n",
    "    i+=1\n",
    "    if i==6:\n",
    "        print(\"\\n\")\n",
    "\n",
    "i=1\n",
    "for NIM in NIMS:\n",
    "    print(f\"NIM Oktal {i}: {oct(NIM)[2:]}\")\n",
    "    i+=1\n",
    "    if i==6:\n",
    "        print(\"\\n\")        "
   ]
  }
 ],
 "metadata": {
  "kernelspec": {
   "display_name": "Python 3",
   "language": "python",
   "name": "python3"
  },
  "language_info": {
   "codemirror_mode": {
    "name": "ipython",
    "version": 3
   },
   "file_extension": ".py",
   "mimetype": "text/x-python",
   "name": "python",
   "nbconvert_exporter": "python",
   "pygments_lexer": "ipython3",
   "version": "3.12.2"
  }
 },
 "nbformat": 4,
 "nbformat_minor": 2
}
